{
 "cells": [
  {
   "cell_type": "code",
   "execution_count": null,
   "metadata": {},
   "outputs": [],
   "source": [
    "from PIL import Image\n",
    "import os, sys\n",
    "\n",
    "\n",
    "\n",
    "def resize(im,new_width,new_height):\n",
    "    resized_image= im.resize((new_width,new_height))\n",
    "    return(resized_image)\n",
    "\n",
    "path = r'Indian Food Images/Indian Food Images'\n",
    "main_path= os.listdir(path)\n",
    "print(len(main_path))\n",
    "for i in range(len(main_path)):\n",
    "    file = os.path.join(path,main_path[i])\n",
    "    file_list=os.listdir(file)\n",
    "    print(main_path[i])\n",
    "    print(len(file_list))\n",
    "    for j in file_list:\n",
    "        im=os.path.join(file,j)\n",
    "        im=Image.open(im)\n",
    "        im_resized = resize(im,256,256)\n",
    "        new_path=r'Resized Indian Food Images'\n",
    "        new_dir=main_path[i]\n",
    "\n",
    "        filepath= f\"{new_path}/{new_dir}\"\n",
    "        if not os.path.exists(filepath):\n",
    "            os.makedirs(filepath)\n",
    "        filepath=f\"{filepath}/{j}.jpg\"\n",
    "        im_resized.save(filepath)"
   ]
  }
 ],
 "metadata": {
  "language_info": {
   "name": "python"
  },
  "orig_nbformat": 4
 },
 "nbformat": 4,
 "nbformat_minor": 2
}
